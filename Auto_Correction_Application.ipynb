{
 "cells": [
  {
   "cell_type": "code",
   "execution_count": 3,
   "id": "d906ecce-e48e-43df-b9e8-8a0086babb91",
   "metadata": {},
   "outputs": [
    {
     "name": "stdout",
     "output_type": "stream",
     "text": [
      "Writing auto-correction.py\n"
     ]
    }
   ],
   "source": [
    "%%writefile auto-correction.py\n",
    "import streamlit as st\n",
    "from textblob import TextBlob\n",
    "\n",
    "st.title(\"Auto Correction application\")\n",
    "text=st.text_area(\"Enter your Text..\",height=150)\n",
    "def correct_text(text):\n",
    "    blob=TextBlob(text)\n",
    "    correct_text=blob.correct()\n",
    "    return str(correct_text)\n",
    "\n",
    "if st.button(\"Enter\"):\n",
    "    if text:\n",
    "        st.write(correct_text(text))\n",
    "    else:st.write(\"Pleas enter your text\")"
   ]
  },
  {
   "cell_type": "code",
   "execution_count": null,
   "id": "c8397085-01b0-41ee-87f6-1e9c2ac9d90f",
   "metadata": {},
   "outputs": [],
   "source": []
  }
 ],
 "metadata": {
  "kernelspec": {
   "display_name": "Python 3 (ipykernel)",
   "language": "python",
   "name": "python3"
  },
  "language_info": {
   "codemirror_mode": {
    "name": "ipython",
    "version": 3
   },
   "file_extension": ".py",
   "mimetype": "text/x-python",
   "name": "python",
   "nbconvert_exporter": "python",
   "pygments_lexer": "ipython3",
   "version": "3.9.19"
  }
 },
 "nbformat": 4,
 "nbformat_minor": 5
}
